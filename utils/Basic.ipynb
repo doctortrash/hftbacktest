{
 "cells": [
  {
   "cell_type": "code",
   "execution_count": null,
   "metadata": {},
   "outputs": [],
   "source": [
    "import cudf \n",
    "import os\n",
    "import gc \n",
    "import pandas as pd \n",
    "\n",
    "data_dir = \"/home/danny/hftbacktest/processed\"\n",
    "files = os.listdir(data_dir)\n",
    "files = [file for file in files if file.endswith(\".parquet\")]\n",
    "\n",
    "\n",
    "# # Read in each file and filter b ysymbol\n",
    "# # Parallelize this process\n",
    "# from joblib import Parallel, delayed\n",
    "\n",
    "prices = prices"
   ]
  }
 ],
 "metadata": {
  "language_info": {
   "name": "python"
  }
 },
 "nbformat": 4,
 "nbformat_minor": 2
}
