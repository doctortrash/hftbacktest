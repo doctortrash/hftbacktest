{
 "cells": [
  {
   "cell_type": "code",
   "execution_count": 1,
   "metadata": {},
   "outputs": [],
   "source": [
    "import cudf as pd \n",
    "import os \n",
    "from databento_dbn import FIXED_PRICE_SCALE, UNDEF_PRICE\n",
    "\n",
    "base_path = os.getcwd()\n",
    "from typing import Literal\n",
    "def build_symbol_df(symbol: Literal['GOOG', 'GOOGL']):\n",
    "    goog_dir = \"processed/GOOG\" if symbol == 'GOOG' else \"processed/GOOGL\"\n",
    "    goog_df_paths = [f\"{base_path}/{goog_dir}/{file}\" for file in os.listdir(f\"{base_path}/{goog_dir}\")]\n",
    "    keep_cols = [\"ts_recv\", 'price']\n",
    "    goog_df = cudf.read_parquet(goog_df_paths[0])\n",
    "    orig_cols = goog_df.columns\n",
    "    goog_df = goog_df.drop(columns=[col for col in goog_df.columns if col not in keep_cols])\n",
    "    for file in goog_df_paths[1:]:\n",
    "        df = cudf.read_parquet(file).drop(columns=[col for col in orig_cols if col not in keep_cols])\n",
    "        goog_df = cudf.concat([goog_df, df])\n",
    "    goog_df = goog_df.sort_values(by='ts_recv')\n",
    "    return goog_df\n",
    "\n",
    "# goog_df = build_symbol_df('GOOG')\n",
    "# googl_df = build_symbol_df('GOOGL')\n",
    "\n",
    "# goog_df['price'] = goog_df['price'] / FIXED_PRICE_SCALE\n",
    "# googl_df['price'] = googl_df['price'] / FIXED_PRICE_SCALE\n",
    "\n",
    "# goog_df.to_parquet(goog_path)\n",
    "# googl_df.to_parquet(googl_path)"
   ]
  },
  {
   "cell_type": "code",
   "execution_count": 2,
   "metadata": {},
   "outputs": [],
   "source": [
    "def merge(time_unit: str): \n",
    "    time_amt = 5\n",
    "    goog_path = f\"/home/danny/hftbacktest/processed/GOOG/dbeq-basic-20231215.mbp-10.parquet\"\n",
    "    googl_path = f\"{base_path}/GOOGL.parquet\"\n",
    "    goog_df = cudf.read_parquet(goog_path)\n",
    "    googl_df = cudf.read_parquet(googl_path)\n",
    "\n",
    "    goog_df = goog_df[goog_df['price'] < 500]\n",
    "    googl_df = googl_df[googl_df['price'] < 500]\n",
    "    merged_goog = goog_df\n",
    "    merged_goog2 = goog_df.copy()\n",
    "    # merged_googl = googl_df \n",
    "    print(merged_goog2[\"ts_recv\"])\n",
    "    merged_goog2['ts_recv'] = merged_goog2['ts_recv'].to_datetime().groupby(pd.Grouper(freq=time_unit)).transform('first')\n",
    "    merged_goog['ts_recv'] = merged_goog['ts_recv'].astype('datetime64[ms]').dt.floor(\"s\")\n",
    "    print(len(merged_goog), len(merged_goog2))\n",
    "    # merged_goog = merged_goog.groupby('ts_recv').mean()\n",
    "    # merged_googl['ts_recv'] = merged_googl['ts_recv'].astype('datetime64[ms]').dt.floor(time_unit) // time_amt\n",
    "    # merged_googl = merged_googl.groupby('ts_recv').mean()\n",
    "\n",
    "    # merged_df = cudf.merge(merged_goog, merged_googl, on='ts_recv', how='inner', suffixes=('_goog', '_googl'))\n",
    "    # merged_df = merged_df.reset_index()\n",
    "    # merged_df = merged_df.sort_values(by='ts_recv')\n",
    "\n",
    "    # return merged_df\n"
   ]
  },
  {
   "cell_type": "code",
   "execution_count": 3,
   "metadata": {},
   "outputs": [
    {
     "name": "stdout",
     "output_type": "stream",
     "text": [
      "8         2023-12-15 13:00:25.912423136\n",
      "10        2023-12-15 13:04:46.496779356\n",
      "12        2023-12-15 13:04:46.557234276\n",
      "14        2023-12-15 13:04:46.627732739\n",
      "16        2023-12-15 13:05:03.951288441\n",
      "                       ...             \n",
      "2683796   2023-12-15 21:00:00.029188601\n",
      "2683853   2023-12-15 21:00:00.579485839\n",
      "2683854   2023-12-15 21:00:00.579493429\n",
      "2683859   2023-12-15 21:05:37.151577141\n",
      "2683860   2023-12-15 21:05:37.711489976\n",
      "Name: ts_recv, Length: 1567043, dtype: datetime64[ns]\n"
     ]
    },
    {
     "ename": "AttributeError",
     "evalue": "'Series' object has no attribute 'to_datetime'",
     "output_type": "error",
     "traceback": [
      "\u001b[0;31m---------------------------------------------------------------------------\u001b[0m",
      "\u001b[0;31mAttributeError\u001b[0m                            Traceback (most recent call last)",
      "Cell \u001b[0;32mIn[3], line 1\u001b[0m\n\u001b[0;32m----> 1\u001b[0m \u001b[43mmerge\u001b[49m\u001b[43m(\u001b[49m\u001b[38;5;124;43m'\u001b[39;49m\u001b[38;5;124;43m1s\u001b[39;49m\u001b[38;5;124;43m'\u001b[39;49m\u001b[43m)\u001b[49m\n",
      "Cell \u001b[0;32mIn[2], line 14\u001b[0m, in \u001b[0;36mmerge\u001b[0;34m(time_unit)\u001b[0m\n\u001b[1;32m     12\u001b[0m \u001b[38;5;66;03m# merged_googl = googl_df \u001b[39;00m\n\u001b[1;32m     13\u001b[0m \u001b[38;5;28mprint\u001b[39m(merged_goog2[\u001b[38;5;124m\"\u001b[39m\u001b[38;5;124mts_recv\u001b[39m\u001b[38;5;124m\"\u001b[39m])\n\u001b[0;32m---> 14\u001b[0m merged_goog2[\u001b[38;5;124m'\u001b[39m\u001b[38;5;124mts_recv\u001b[39m\u001b[38;5;124m'\u001b[39m] \u001b[38;5;241m=\u001b[39m \u001b[43mmerged_goog2\u001b[49m\u001b[43m[\u001b[49m\u001b[38;5;124;43m'\u001b[39;49m\u001b[38;5;124;43mts_recv\u001b[39;49m\u001b[38;5;124;43m'\u001b[39;49m\u001b[43m]\u001b[49m\u001b[38;5;241;43m.\u001b[39;49m\u001b[43mto_datetime\u001b[49m()\u001b[38;5;241m.\u001b[39mgroupby(cudf\u001b[38;5;241m.\u001b[39mGrouper(freq\u001b[38;5;241m=\u001b[39mtime_unit))\u001b[38;5;241m.\u001b[39mtransform(\u001b[38;5;124m'\u001b[39m\u001b[38;5;124mfirst\u001b[39m\u001b[38;5;124m'\u001b[39m)\n\u001b[1;32m     15\u001b[0m merged_goog[\u001b[38;5;124m'\u001b[39m\u001b[38;5;124mts_recv\u001b[39m\u001b[38;5;124m'\u001b[39m] \u001b[38;5;241m=\u001b[39m merged_goog[\u001b[38;5;124m'\u001b[39m\u001b[38;5;124mts_recv\u001b[39m\u001b[38;5;124m'\u001b[39m]\u001b[38;5;241m.\u001b[39mastype(\u001b[38;5;124m'\u001b[39m\u001b[38;5;124mdatetime64[ms]\u001b[39m\u001b[38;5;124m'\u001b[39m)\u001b[38;5;241m.\u001b[39mdt\u001b[38;5;241m.\u001b[39mfloor(\u001b[38;5;124m\"\u001b[39m\u001b[38;5;124ms\u001b[39m\u001b[38;5;124m\"\u001b[39m)\n\u001b[1;32m     16\u001b[0m \u001b[38;5;28mprint\u001b[39m(\u001b[38;5;28mlen\u001b[39m(merged_goog), \u001b[38;5;28mlen\u001b[39m(merged_goog2))\n",
      "\u001b[0;31mAttributeError\u001b[0m: 'Series' object has no attribute 'to_datetime'"
     ]
    }
   ],
   "source": [
    "merge('1s')"
   ]
  },
  {
   "cell_type": "code",
   "execution_count": null,
   "metadata": {},
   "outputs": [],
   "source": [
    "from statsmodels.tsa.vector_ar.vecm import coint_johansen\n",
    "from statsmodels.tsa.stattools import adfuller\n",
    "import numpy as np \n",
    "# Function to perform Augmented Dickey-Fuller test\n",
    "def adf_test(series, title=''):\n",
    "    result = adfuller(series, autolag='AIC')\n",
    "    print(f'ADF Statistic for {title}: {result[0]}')\n",
    "    print(f'p-value: {result[1]}')\n",
    "    print('Critical Values:')\n",
    "    for key, value in result[4].items():\n",
    "        print(f'\\t{key}: {value}')\n",
    "\n",
    "# Performing ADF test on both series\n",
    "subsample_percent = 0.05\n",
    "goog_price = merged_df['price_goog'].to_numpy().astype(np.float16)\n",
    "googl_price = merged_df['price_googl'].to_numpy().astype(np.float16)\n",
    "# adf_test(goog_price, title='price_goog')\n",
    "# adf_test(googl_price, title='price_googl')\n",
    "\n"
   ]
  },
  {
   "cell_type": "code",
   "execution_count": null,
   "metadata": {},
   "outputs": [
    {
     "data": {
      "text/plain": [
       "{'Eigenvalues': array([0.16074036, 0.09819602]),\n",
       " 'Test Statistic': array([9778.90208348, 3627.97282724]),\n",
       " 'Critical Values (90%, 95%, 99%)': array([[13.4294, 15.4943, 19.9349],\n",
       "        [ 2.7055,  3.8415,  6.6349]])}"
      ]
     },
     "execution_count": 5,
     "metadata": {},
     "output_type": "execute_result"
    }
   ],
   "source": [
    "\n",
    "# Setting up data for Johansen cointegration test\n",
    "data_for_test = merged_df[['price_googl', 'price_goog']].dropna()\n",
    "data_for_test = data_for_test.to_numpy().astype(np.float16)\n",
    "\n",
    "# Perform the Johansen cointegration test\n",
    "# The 'det_order' parameter specifies the deterministic part of the setup; 0 means no deterministic part\n",
    "# The 'k_ar_diff' specifies the lag, here using 1 for simplicity\n",
    "johansen_test = coint_johansen(data_for_test, det_order=0, k_ar_diff=1)\n",
    "\n",
    "# Display the results\n",
    "eig = johansen_test.eig  # Eigenvalues\n",
    "lr1 = johansen_test.lr1  # Test statistic\n",
    "cvt = johansen_test.cvt  # Critical values for the test statistic at the 90%, 95%, 99% confidence levels\n",
    "\n",
    "johansen_results = {\n",
    "    \"Eigenvalues\": eig,\n",
    "    \"Test Statistic\": lr1,\n",
    "    \"Critical Values (90%, 95%, 99%)\": cvt\n",
    "}\n",
    "\n",
    "johansen_results"
   ]
  }
 ],
 "metadata": {
  "kernelspec": {
   "display_name": "algotrader",
   "language": "python",
   "name": "python3"
  },
  "language_info": {
   "codemirror_mode": {
    "name": "ipython",
    "version": 3
   },
   "file_extension": ".py",
   "mimetype": "text/x-python",
   "name": "python",
   "nbconvert_exporter": "python",
   "pygments_lexer": "ipython3",
   "version": "3.11.9"
  }
 },
 "nbformat": 4,
 "nbformat_minor": 2
}
