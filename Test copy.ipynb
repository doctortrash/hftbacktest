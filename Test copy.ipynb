{
 "cells": [
  {
   "cell_type": "code",
   "execution_count": 1,
   "metadata": {},
   "outputs": [],
   "source": [
    "import numpy as np\n",
    "from hftbacktest.data.utils import databento"
   ]
  },
  {
   "cell_type": "code",
   "execution_count": 14,
   "metadata": {},
   "outputs": [
    {
     "name": "stdout",
     "output_type": "stream",
     "text": [
      "Correcting the latency\n",
      "Correcting the event order\n"
     ]
    }
   ],
   "source": [
    "import os \n",
    "base_path = os.getcwd()\n",
    "path = os.path.join(base_path, 'data/mbp.parquet')\n",
    "data = databento.convert(path)[100:]"
   ]
  },
  {
   "cell_type": "code",
   "execution_count": 13,
   "metadata": {},
   "outputs": [
    {
     "name": "stdout",
     "output_type": "stream",
     "text": [
      "[[0.0 456000.0 456000.0 0.0 39400000000.0 0.0]\n",
      " [0.0 467000.0 467000.0 2.0 40400000000.0 0.0]\n",
      " [0.0 467000.0 467000.0 2.0 40600000000.0 0.0]\n",
      " [0.0 467000.0 467000.0 0.0 39600000000.0 0.0]\n",
      " [0.0 467000.0 467000.0 0.0 39400000000.0 0.0]\n",
      " [0.0 467000.0 467000.0 0.0 39200000000.0 0.0]\n",
      " [0.0 467000.0 467000.0 2.0 40400000000.0 0.0]\n",
      " [0.0 467000.0 467000.0 2.0 40600000000.0 0.0]\n",
      " [0.0 467000.0 467000.0 2.0 40800000000.0 0.0]\n",
      " [0.0 467000.0 467000.0 0.0 39600000000.0 0.0]\n",
      " [0.0 467000.0 467000.0 0.0 39400000000.0 0.0]\n",
      " [0.0 467000.0 467000.0 0.0 39200000000.0 0.0]\n",
      " [1.0 5494000.0 5495000.0 0.0 164190000000.0 -3991.0]\n",
      " [1.0 6730000.0 6730000.0 0.0 164190000000.0 -3950.0]\n",
      " [1.0 6731000.0 6731000.0 0.0 164010000000.0 -3900.0]\n",
      " [0.0 9027000.0 9027000.0 2.0 -260000000000.0 -2000.0]\n",
      " [0.0 9027000.0 9027000.0 2.0 -259800000000.0 -2000.0]\n",
      " [0.0 9027000.0 9027000.0 0.0 -262800000000.0 -2000.0]\n",
      " [0.0 9027000.0 9027000.0 0.0 -263000000000.0 -2000.0]\n",
      " [0.0 9027000.0 9027000.0 0.0 -263200000000.0 -2000.0]]\n"
     ]
    }
   ],
   "source": [
    "np.set_printoptions(formatter={'all':lambda x: str(x)})\n",
    "data = data - data[0]\n",
    "print(data[35:55])"
   ]
  },
  {
   "cell_type": "code",
   "execution_count": null,
   "metadata": {},
   "outputs": [],
   "source": [
    "\n"
   ]
  },
  {
   "cell_type": "code",
   "execution_count": null,
   "metadata": {},
   "outputs": [],
   "source": [
    "from hftbacktest.data.utils import create_last_snapshot\n",
    "\n",
    "\n",
    "data = create_last_snapshot(\"/Users/danny/projects/hftbacktest/test_dbn.npz\", tick_size=0.01, lot_size=0.001)\n",
    "np.savez(path + 'bn_eod.npz', data=data)\n",
    "\n",
    "# create_last_snapshot(\n",
    "#     '/Users/coopergamble/Desktop/usc/clubs/quant/hftbacktest/test_dbn.npz',\n",
    "#     tick_size=0.01,\n",
    "#     lot_size=0.001,\n",
    "#     initial_snapshot='btcusdt_20230404_eod.npz',\n",
    "#     output_snapshot_filename='btcusdt_20230405_eod'\n",
    "# )"
   ]
  },
  {
   "cell_type": "code",
   "execution_count": null,
   "metadata": {},
   "outputs": [],
   "source": []
  }
 ],
 "metadata": {
  "kernelspec": {
   "display_name": "Python 3",
   "language": "python",
   "name": "python3"
  },
  "language_info": {
   "codemirror_mode": {
    "name": "ipython",
    "version": 3
   },
   "file_extension": ".py",
   "mimetype": "text/x-python",
   "name": "python",
   "nbconvert_exporter": "python",
   "pygments_lexer": "ipython3",
   "version": "3.11.9"
  }
 },
 "nbformat": 4,
 "nbformat_minor": 2
}
