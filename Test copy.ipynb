{
 "cells": [
  {
   "cell_type": "code",
   "execution_count": 1,
   "metadata": {},
   "outputs": [],
   "source": [
    "import numpy as np\n",
    "from hftbacktest.data.utils import databento"
   ]
  },
  {
   "cell_type": "code",
   "execution_count": 2,
   "metadata": {},
   "outputs": [],
   "source": [
    "import os \n",
    "base_path = os.getcwd()\n",
    "path = os.path.join(base_path, 'data/mbp.parquet')\n",
    "data = databento.convert(path)"
   ]
  },
  {
   "cell_type": "code",
   "execution_count": null,
   "metadata": {},
   "outputs": [],
   "source": [
    "data = data[:100]"
   ]
  },
  {
   "cell_type": "code",
   "execution_count": null,
   "metadata": {},
   "outputs": [],
   "source": [
    "\n",
    "np.savez('test_dbn', data=data)"
   ]
  },
  {
   "cell_type": "code",
   "execution_count": null,
   "metadata": {},
   "outputs": [],
   "source": [
    "from hftbacktest.data.utils import create_last_snapshot\n",
    "\n",
    "\n",
    "data = create_last_snapshot(\"/Users/danny/projects/hftbacktest/test_dbn.npz\", tick_size=0.01, lot_size=0.001)\n",
    "np.savez(path + 'bn_eod.npz', data=data)\n",
    "\n",
    "# create_last_snapshot(\n",
    "#     '/Users/coopergamble/Desktop/usc/clubs/quant/hftbacktest/test_dbn.npz',\n",
    "#     tick_size=0.01,\n",
    "#     lot_size=0.001,\n",
    "#     initial_snapshot='btcusdt_20230404_eod.npz',\n",
    "#     output_snapshot_filename='btcusdt_20230405_eod'\n",
    "# )"
   ]
  },
  {
   "cell_type": "code",
   "execution_count": null,
   "metadata": {},
   "outputs": [],
   "source": []
  }
 ],
 "metadata": {
  "kernelspec": {
   "display_name": "Python 3",
   "language": "python",
   "name": "python3"
  },
  "language_info": {
   "codemirror_mode": {
    "name": "ipython",
    "version": 3
   },
   "file_extension": ".py",
   "mimetype": "text/x-python",
   "name": "python",
   "nbconvert_exporter": "python",
   "pygments_lexer": "ipython3",
   "version": "3.11.9"
  }
 },
 "nbformat": 4,
 "nbformat_minor": 2
}
