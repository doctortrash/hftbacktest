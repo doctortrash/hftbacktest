{
 "cells": [
  {
   "cell_type": "code",
   "execution_count": 1,
   "metadata": {
    "metadata": {}
   },
   "outputs": [],
   "source": [
    "from __future__ import annotations\n",
    "import polars as pl\n",
    "import seaborn as sns\n",
    "import tqdm\n",
    "from databento_dbn import FIXED_PRICE_SCALE, UNDEF_PRICE\n",
    "# plot price of each over time\n",
    "import plotly.graph_objs as go\n",
    "import plotly.offline as pyo\n",
    "from helpers import * \n",
    "import pandas as pd\n",
    "import numpy as np\n",
    "import datetime as dt  # For plotting x-axis as dates\n",
    "import matplotlib.pyplot as plt\n",
    "import statsmodels.api as sm\n",
    "from signals import  transfer_entropy"
   ]
  },
  {
   "cell_type": "code",
   "execution_count": 2,
   "metadata": {
    "metadata": {}
   },
   "outputs": [
    {
     "data": {
      "text/plain": [
       "(9562459, 75)"
      ]
     },
     "execution_count": 2,
     "metadata": {},
     "output_type": "execute_result"
    }
   ],
   "source": [
    "data = pl.read_parquet(\"/Users/danny/trading/databento/mbp.parquet\")\n",
    "data = data.filter((pl.col(\"symbol\") == \"GOOGL\") | (pl.col(\"symbol\") == \"GOOG\"))\n",
    "data = data.filter(pl.col(\"price\") != UNDEF_PRICE)\n",
    "data = data.with_columns(pl.col(\"ts_event\") - pl.col(\"ts_event\").min())\n",
    "data = data.filter(pl.col(\"price\") < 200370000000.0)\n",
    "data.shape"
   ]
  },
  {
   "cell_type": "code",
   "execution_count": 3,
   "metadata": {},
   "outputs": [
    {
     "data": {
      "text/plain": [
       "['ts_recv',\n",
       " 'ts_event',\n",
       " 'rtype',\n",
       " 'publisher_id',\n",
       " 'instrument_id',\n",
       " 'action',\n",
       " 'side',\n",
       " 'depth',\n",
       " 'price',\n",
       " 'size',\n",
       " 'flags',\n",
       " 'ts_in_delta',\n",
       " 'sequence',\n",
       " 'bid_px_00',\n",
       " 'ask_px_00',\n",
       " 'bid_sz_00',\n",
       " 'ask_sz_00',\n",
       " 'bid_ct_00',\n",
       " 'ask_ct_00',\n",
       " 'bid_px_01',\n",
       " 'ask_px_01',\n",
       " 'bid_sz_01',\n",
       " 'ask_sz_01',\n",
       " 'bid_ct_01',\n",
       " 'ask_ct_01',\n",
       " 'bid_px_02',\n",
       " 'ask_px_02',\n",
       " 'bid_sz_02',\n",
       " 'ask_sz_02',\n",
       " 'bid_ct_02',\n",
       " 'ask_ct_02',\n",
       " 'bid_px_03',\n",
       " 'ask_px_03',\n",
       " 'bid_sz_03',\n",
       " 'ask_sz_03',\n",
       " 'bid_ct_03',\n",
       " 'ask_ct_03',\n",
       " 'bid_px_04',\n",
       " 'ask_px_04',\n",
       " 'bid_sz_04',\n",
       " 'ask_sz_04',\n",
       " 'bid_ct_04',\n",
       " 'ask_ct_04',\n",
       " 'bid_px_05',\n",
       " 'ask_px_05',\n",
       " 'bid_sz_05',\n",
       " 'ask_sz_05',\n",
       " 'bid_ct_05',\n",
       " 'ask_ct_05',\n",
       " 'bid_px_06',\n",
       " 'ask_px_06',\n",
       " 'bid_sz_06',\n",
       " 'ask_sz_06',\n",
       " 'bid_ct_06',\n",
       " 'ask_ct_06',\n",
       " 'bid_px_07',\n",
       " 'ask_px_07',\n",
       " 'bid_sz_07',\n",
       " 'ask_sz_07',\n",
       " 'bid_ct_07',\n",
       " 'ask_ct_07',\n",
       " 'bid_px_08',\n",
       " 'ask_px_08',\n",
       " 'bid_sz_08',\n",
       " 'ask_sz_08',\n",
       " 'bid_ct_08',\n",
       " 'ask_ct_08',\n",
       " 'bid_px_09',\n",
       " 'ask_px_09',\n",
       " 'bid_sz_09',\n",
       " 'ask_sz_09',\n",
       " 'bid_ct_09',\n",
       " 'ask_ct_09',\n",
       " 'symbol',\n",
       " '__index_level_0__']"
      ]
     },
     "execution_count": 3,
     "metadata": {},
     "output_type": "execute_result"
    }
   ],
   "source": [
    "data.columns"
   ]
  },
  {
   "cell_type": "code",
   "execution_count": 1,
   "metadata": {
    "metadata": {}
   },
   "outputs": [
    {
     "ename": "NameError",
     "evalue": "name 'pl' is not defined",
     "output_type": "error",
     "traceback": [
      "\u001b[0;31m---------------------------------------------------------------------------\u001b[0m",
      "\u001b[0;31mNameError\u001b[0m                                 Traceback (most recent call last)",
      "Cell \u001b[0;32mIn[1], line 1\u001b[0m\n\u001b[0;32m----> 1\u001b[0m \u001b[38;5;28;01mdef\u001b[39;00m \u001b[38;5;21mget_pairs\u001b[39m(data: \u001b[43mpl\u001b[49m\u001b[38;5;241m.\u001b[39mDataFrame, symbols: \u001b[38;5;28mlist\u001b[39m[\u001b[38;5;28mstr\u001b[39m] \u001b[38;5;241m=\u001b[39m [\u001b[38;5;124m\"\u001b[39m\u001b[38;5;124mGOOGL\u001b[39m\u001b[38;5;124m\"\u001b[39m, \u001b[38;5;124m\"\u001b[39m\u001b[38;5;124mGOOG\u001b[39m\u001b[38;5;124m\"\u001b[39m], time_unit: \u001b[38;5;28mstr\u001b[39m \u001b[38;5;241m=\u001b[39m \u001b[38;5;124m\"\u001b[39m\u001b[38;5;124ms\u001b[39m\u001b[38;5;124m\"\u001b[39m):\n\u001b[1;32m      2\u001b[0m     vals \u001b[38;5;241m=\u001b[39m []\n\u001b[1;32m      3\u001b[0m     \u001b[38;5;28;01mfor\u001b[39;00m symbol \u001b[38;5;129;01min\u001b[39;00m symbols: \n",
      "\u001b[0;31mNameError\u001b[0m: name 'pl' is not defined"
     ]
    }
   ],
   "source": [
    "def get_pairs(data: pl.DataFrame, symbols: list[str] = [\"GOOGL\", \"GOOG\"], time_unit: str = \"s\"):\n",
    "    vals = []\n",
    "    for symbol in symbols: \n",
    "        symbol_data = data.filter(pl.col(\"symbol\") == symbol)\n",
    "        if time_unit == \"ms\":\n",
    "            symbol_data = symbol_data.with_columns(pl.col(\"ts_event\").dt.total_milliseconds())\n",
    "        elif time_unit == \"s\":\n",
    "            symbol_data = symbol_data.with_columns(pl.col(\"ts_event\").dt.total_seconds())\n",
    "        symbol_data = symbol_data.group_by(\"ts_event\").agg(pl.col(\"price\").mean())\n",
    "        symbol_data = symbol_data.with_columns((pl.col(\"price\") / pl.col(\"price\").shift(1)).log())\n",
    "        symbol_data = symbol_data.with_columns(pl.col(\"price\") / FIXED_PRICE_SCALE)\n",
    "        merged = symbol_data.to_pandas()\n",
    "        vec = merged[\"price\"].values\n",
    "        vals.append(vec)\n",
    "\n",
    "    # Get a rolling mean over 60\n",
    "    [print(len(val)) for val in vals]\n",
    "    length = min([len(val) for val in vals])\n",
    "    vals = [val[2:length] for val in vals]\n",
    "\n",
    "    # print(f\"Distance correlation: {distance_correlation(vals[0], vals[1])}\") \n",
    "    return vals[0], vals[1]\n",
    "\n",
    "pairs = get_pairs(data, time_unit=\"ms\")\n",
    "x, y = pairs"
   ]
  },
  {
   "cell_type": "code",
   "execution_count": null,
   "metadata": {
    "metadata": {}
   },
   "outputs": [],
   "source": [
    "from sklearn.linear_model import LinearRegression   \n",
    "from sklearn.metrics import mean_squared_error, r2_score\n",
    "\n",
    "def pred(x, y, offset=0):\n",
    "    \"predict y+offset from x\"\n",
    "    # Test/train split\n",
    "    x_test = x[:len(x)//2]\n",
    "    x_train = x[len(x)//2:]\n",
    "    y_test = y[:len(y)//2]\n",
    "    y_train = y[len(y)//2:]\n",
    "\n",
    "    # print(x_train.shape, y_train.shape)\n",
    "    # print(x_test.shape, y_test.shape)\n",
    "    # Fit model\n",
    "    x_train = x_train[:-offset]\n",
    "    y_train = y_train[offset:]\n",
    "    # print(x_train.shape, y_train.shape)\n",
    "    model = LinearRegression()\n",
    "\n",
    "    model.fit(x_train.reshape(-1, 1), y_train)\n",
    "    # Predict\n",
    "    x_test = x_test[:-offset]\n",
    "    y_test = y_test[offset:]\n",
    "    y_pred = model.predict(x_test.reshape(-1, 1))\n",
    "    # Evaluate\n",
    "    # print the shape of the data\n",
    "    # mse = mean_squared_error(y_test, y_pred)\n",
    "    r2 = r2_score(y_test, y_pred)\n",
    "    # print(f\"MSE: {mse:.4f}, R2: {r2 * 100:.4f}%\")\n",
    "    return r2 * 100\n",
    "\n",
    "scores = []\n",
    "step = 10\n",
    "for i in range(step, 10000, step):\n",
    "    if i % 1000 == 0 and len(scores) > 0:\n",
    "        # print current max\n",
    "        temp = np.array(scores)\n",
    "        print(temp.max())\n",
    "        top5 = temp.argsort()[-5:][::-1]\n",
    "        print(top5 * step)\n",
    "        print(temp[top5])\n",
    "    scores.append(pred(x, y, i))\n",
    "\n",
    "# print top 5 scores and their offsets\n",
    "scores = np.array(scores)\n"
   ]
  },
  {
   "cell_type": "code",
   "execution_count": null,
   "metadata": {
    "metadata": {}
   },
   "outputs": [],
   "source": [
    "scores = []\n",
    "for i in range(2, 20000, 2):\n",
    "    if i % 500 == 0:\n",
    "        # print current max\n",
    "        temp = np.array(scores)\n",
    "        print(temp.max())\n",
    "        top5 = temp.argsort()[-5:][::-1]\n",
    "        print(top5)\n",
    "        print(temp[top5])\n",
    "    scores.append(pred(y, x, i))\n",
    "\n",
    "# print top 5 scores and their offsets\n",
    "scores = np.array(scores)"
   ]
  },
  {
   "cell_type": "code",
   "execution_count": null,
   "metadata": {
    "metadata": {}
   },
   "outputs": [],
   "source": [
    "\n",
    "def sliding_mean(val, window_size):\n",
    "    return np.convolve(val, np.ones(window_size)/window_size, mode='valid')\n",
    "\n",
    "\n",
    "def copula_pairs(data: pl.DataFrame, symbols: list[str]):\n",
    "    traces = []\n",
    "    vals = []\n",
    "    for symbol in symbols: \n",
    "        symbol_data = data.filter(pl.col(\"symbol\") == symbol)\n",
    "        symbol_data = symbol_data.with_columns(pl.col(\"ts_event\").dt.total_milliseconds())\n",
    "        symbol_data = symbol_data.group_by(\"ts_event\").agg(pl.col(\"price\").mean())\n",
    "        symbol_data = symbol_data.with_columns((pl.col(\"price\") / pl.col(\"price\").shift(1)).log())\n",
    "        symbol_data = symbol_data.with_columns(pl.col(\"price\") / FIXED_PRICE_SCALE)\n",
    "        merged = symbol_data.to_pandas()\n",
    "        vec = merged[\"price\"].values\n",
    "        vals.append(vec)\n",
    "\n",
    "    # Get a rolling mean over 60\n",
    "\n",
    "    length = min([len(val) for val in vals])\n",
    "    vals = [val[2:length] for val in vals]\n",
    "\n",
    "    # print(f\"Distance correlation: {distance_correlation(vals[0], vals[1])}\")\n",
    "\n",
    "\n",
    "    val1 = vals[0]\n",
    "    val2 = vals[1]\n",
    "    val1_mean = []\n",
    "    val2_mean = []\n",
    "    print(len(val1))\n",
    "    window_size = 5\n",
    "    for window_size in range(5, 1000, 5):\n",
    "        val1 = sliding_mean(val1, window_size)\n",
    "        val2 = sliding_mean(val2, window_size)\n",
    "        print(f\"Window {window_size} Pearson correlation: {np.corrcoef(val1, val2)[0, 1]}\")\n",
    "\n",
    "    # print the mean difference, and std deviation\n",
    "    print(np.mean(val1 - val2))\n",
    "    print(np.std(val1 - val2))\n",
    "    plt.hist(val1 - val2, bins=100)\n",
    "\n",
    "copula_pairs(data,[\"GOOGL\", \"GOOG\"])"
   ]
  },
  {
   "cell_type": "code",
   "execution_count": null,
   "metadata": {
    "metadata": {}
   },
   "outputs": [],
   "source": [
    "\n",
    "def plot_price(data: pl.DataFrame, symbols: list[str]):\n",
    "    traces = []\n",
    "    vals = []\n",
    "    for symbol in symbols: \n",
    "        symbol_data = data.filter(pl.col(\"symbol\") == symbol)\n",
    "        symbol_data = symbol_data.with_columns(pl.col(\"ts_event\").dt.total_seconds())\n",
    "        symbol_data = symbol_data.group_by(\"ts_event\").agg(pl.col(\"price\").mean())\n",
    "        symbol_data = symbol_data.with_columns((pl.col(\"price\") / pl.col(\"price\").shift(1)).log())\n",
    "        symbol_data = symbol_data.with_columns(pl.col(\"price\") / FIXED_PRICE_SCALE)\n",
    "        merged = symbol_data.to_pandas()\n",
    "        vec = merged[\"price\"].values\n",
    "        vals.append(vec)\n",
    "\n",
    "        trace = go.Scatter(\n",
    "            x=merged.index,\n",
    "            y=merged[\"price\"],\n",
    "            mode='lines',\n",
    "            name=symbol\n",
    "        )\n",
    "        traces.append(trace)\n",
    "\n",
    "    # Cast to fp16\n",
    "    # Drop na \n",
    "    # vals = [val[~np.isnan(val)] for val in vals]\n",
    "    length = min([len(val) for val in vals])\n",
    "    vals = [val[2:length] for val in vals]\n",
    "    # vals = [np.array(val, dtype=np.float16) for val in vals]\n",
    "    print(distance_correlation(vals[0], vals[1]))\n",
    "    print(np.corrcoef(vals[0], vals[1])[0, 1])\n",
    "\n",
    "    layout = go.Layout(\n",
    "        title='Interactive Plot of Bid and Ask Prices',\n",
    "        xaxis=dict(title='Time'),\n",
    "        yaxis=dict(title='Price'),\n",
    "        hovermode='closest'\n",
    "    )\n",
    "\n",
    "    fig = go.Figure(data=traces, layout=layout)\n",
    "    pyo.iplot(fig)\n",
    "\n",
    "plot_price(data,[\"GOOGL\", \"GOOG\"])"
   ]
  }
 ],
 "metadata": {
  "kernelspec": {
   "display_name": "dev",
   "language": "python",
   "name": "python3"
  },
  "language_info": {
   "codemirror_mode": {
    "name": "ipython",
    "version": 3
   },
   "file_extension": ".py",
   "mimetype": "text/x-python",
   "name": "python",
   "nbconvert_exporter": "python",
   "pygments_lexer": "ipython3",
   "version": "3.10.12"
  }
 },
 "nbformat": 4,
 "nbformat_minor": 2
}
