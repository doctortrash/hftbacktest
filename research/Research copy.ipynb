{
 "cells": [
  {
   "cell_type": "code",
   "execution_count": 24,
   "metadata": {},
   "outputs": [],
   "source": [
    "import os\n",
    "from datetime import datetime\n",
    "import modin.pandas as pd\n",
    "from collections import defaultdict\n",
    "import re\n",
    "\n",
    "BASE_PATH = os.getcwd()\n",
    "DATA_PATH = \"/\".join(BASE_PATH.split('/')[:-1]) + '/data/'"
   ]
  },
  {
   "cell_type": "code",
   "execution_count": 9,
   "metadata": {},
   "outputs": [
    {
     "name": "stderr",
     "output_type": "stream",
     "text": [
      "FutureWarning: Passing 'use_legacy_dataset' is deprecated as of pyarrow 15.0.0 and will be removed in a future version.\n",
      "FutureWarning: Passing 'use_legacy_dataset' is deprecated as of pyarrow 15.0.0 and will be removed in a future version.\n"
     ]
    }
   ],
   "source": [
    "GOOG_FILE_PATH = DATA_PATH + \"GOOG/dbeq-basic-20231214.mbp-10.parquet\"\n",
    "goog_df = pd.read_parquet(GOOG_FILE_PATH)\n",
    "\n",
    "GOOGL_FILE_PATH = DATA_PATH + \"GOOG/dbeq-basic-20231214.mbp-10.parquet\"\n",
    "googl_df = pd.read_parquet(GOOGL_FILE_PATH)"
   ]
  },
  {
   "cell_type": "code",
   "execution_count": null,
   "metadata": {},
   "outputs": [],
   "source": [
    "COLS = ['ts_recv', 'ts_event', 'action', 'side', 'depth', 'price', 'size', 'ts_in_delta', 'bid_px_00', 'ask_px_00', 'bid_sz_00', 'ask_sz_00', 'bid_ct_00', 'ask_ct_00']"
   ]
  },
  {
   "cell_type": "markdown",
   "metadata": {},
   "source": [
    "## merge based on ts_recv"
   ]
  },
  {
   "cell_type": "code",
   "execution_count": 22,
   "metadata": {},
   "outputs": [],
   "source": [
    "def time_is_after(timestamp, hour: str):\n",
    "    pattern = r'(\\d{4}-\\d{2}-\\d{2} \\d{2}:\\d{2}:\\d{2}\\.\\d{6})\\d+'\n",
    "    match = re.match(pattern, str(timestamp))\n",
    "\n",
    "    if match:\n",
    "        dt_obj = datetime.strptime(match.group(1), '%Y-%m-%d %H:%M:%S.%f')\n",
    "    else: \n",
    "        raise ValueError(\"Invalid timestamp format\")\n",
    "    \n",
    "    dt_time = dt_obj.time()\n",
    "    time_obj = datetime.strptime(hour, '%H:%M:%S').time()\n",
    "\n",
    "    return dt_time < time_obj"
   ]
  },
  {
   "cell_type": "code",
   "execution_count": null,
   "metadata": {},
   "outputs": [],
   "source": [
    "def process_single(df, start_minutes, end_minutes):\n",
    "\n",
    "    # df[\"ts_recv\"] = df[\"ts_recv\"].dt.tz_localize(\"UTC\").dt.tz_convert(\"US/Eastern\")\n",
    "    # time = df[\"ts_recv\"].dt.hour * 60 + df[\"ts_recv\"].dt.minute\n",
    "    # df = df[(time >= start_minutes) & (time <= end_minutes)]\n",
    "\n",
    "    return df"
   ]
  },
  {
   "cell_type": "code",
   "execution_count": null,
   "metadata": {},
   "outputs": [],
   "source": [
    "def merge_pairs(dfA: pd.DataFrame, dfB: pd.DataFrame, start_time: str, end_time: str) -> pd.DataFrame:\n",
    "    dfA['ts_recv'] = dfA['ts_recv'].dt.tz_convert('US/Eastern')\n",
    "    dfA['ts_event'] = dfA['ts_event'].dt.tz_convert('US/Eastern')\n",
    "\n",
    "    dfB['ts_recv'] = dfB['ts_recv'].dt.tz_convert('US/Eastern')\n",
    "    dfB['ts_event'] = dfB['ts_event'].dt.tz_convert('US/Eastern')\n",
    "\n",
    "    start_minutes = int(start_time.split(\":\")[0]) * 60 + int(start_time.split(\":\")[1])\n",
    "    end_minutes = int(end_time.split(\":\")[0]) * 60 + int(end_time.split(\":\")[1])\n",
    "\n",
    "    dfA = process_single(dfA, start_minutes, end_minutes)\n",
    "    dfB = process_single(dfB, start_minutes, end_minutes)\n",
    "\n",
    "    return pd.merge(dfA, dfB, on='ts_recv', how='inner')"
   ]
  },
  {
   "cell_type": "code",
   "execution_count": null,
   "metadata": {},
   "outputs": [],
   "source": [
    "def merge(time_unit: str): \n",
    "        \n",
    "    goog_path = f\"{base_path}/GOOG.parquet\"\n",
    "    googl_path = f\"{base_path}/GOOGL.parquet\"\n",
    "    goog_df = cudf.read_parquet(goog_path)\n",
    "    googl_df = cudf.read_parquet(googl_path)\n",
    "\n",
    "    goog_df = goog_df[goog_df['price'] < 500]\n",
    "    googl_df = googl_df[googl_df['price'] < 500]\n",
    "    merged_goog = goog_df\n",
    "    merged_googl = googl_df \n",
    "    merged_goog['ts_recv'] = merged_goog['ts_recv'].astype('datetime64[ms]').dt.ceil(time_unit)\n",
    "    merged_goog = merged_goog.groupby('ts_recv').mean()\n",
    "    merged_googl['ts_recv'] = merged_googl['ts_recv'].astype('datetime64[ms]').dt.ceil(time_unit)\n",
    "    merged_googl = merged_googl.groupby('ts_recv').mean()\n",
    "\n",
    "    merged_df = cudf.merge(merged_goog, merged_googl, on='ts_recv', how='inner', suffixes=('_goog', '_googl'))\n",
    "    merged_df = merged_df.reset_index()\n",
    "    merged_df = merged_df.sort_values(by='ts_recv')\n",
    "\n",
    "    return merged_df"
   ]
  }
 ],
 "metadata": {
  "kernelspec": {
   "display_name": "algotrader",
   "language": "python",
   "name": "python3"
  },
  "language_info": {
   "codemirror_mode": {
    "name": "ipython",
    "version": 3
   },
   "file_extension": ".py",
   "mimetype": "text/x-python",
   "name": "python",
   "nbconvert_exporter": "python",
   "pygments_lexer": "ipython3",
   "version": "3.11.9"
  }
 },
 "nbformat": 4,
 "nbformat_minor": 2
}
