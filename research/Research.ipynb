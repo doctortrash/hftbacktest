{
 "cells": [
  {
   "cell_type": "code",
   "execution_count": null,
   "metadata": {},
   "outputs": [],
   "source": [
    "import os \n",
    "import polars as pl \n",
    "\n",
    "goog_files = os.listdir('/home/danny/hftbacktest/processed/GOOG')\n",
    "googl_files = os.listdir('/home/danny/hftbacktest/processed/GOOGL')\n",
    "g_paths = ['/home/danny/hftbacktest/processed/GOOG/' + f for f in goog_files]\n",
    "gl_paths = ['/home/danny/hftbacktest/processed/GOOGL/' + f for f in googl_files]\n",
    "\n",
    "whole_goog = pl.read_parquet(g_paths)"
   ]
  },
  {
   "cell_type": "code",
   "execution_count": 5,
   "metadata": {},
   "outputs": [],
   "source": [
    "import cudf as pd\n",
    "# /home/danny/hftbacktest/processed/GOOGL/dbeq-basic-20231214.mbp-10.parquet\n",
    "df = pl.read_parquet(\"/home/danny/hftbacktest/processed/GOOG/dbeq-basic-20231214.mbp-10.parquet\")"
   ]
  },
  {
   "cell_type": "code",
   "execution_count": 6,
   "metadata": {},
   "outputs": [],
   "source": [
    "from databento_dbn import FIXED_PRICE_SCALE\n",
    "import numpy as np \n",
    "\n",
    "def process_single(df): \n",
    "    # scale the prices \n",
    "    for i in range(10): \n",
    "        df[f\"bid_px_0{i}\"] = df[f\"bid_px_0{i}\"] / FIXED_PRICE_SCALE\n",
    "        df[f\"ask_px_0{i}\"] = df[f\"ask_px_0{i}\"] / FIXED_PRICE_SCALE\n",
    "\n",
    "    total_bid_ct = sum([df[f\"bid_size_0{i}\"] for i in range(10)])\n",
    "    total_ask_ct = sum([df[f\"ask_size_0{i}\"] for i in range(10)])\n",
    "\n",
    "    # calculate the midprice\n",
    "    df[\"weighted_midprice\"] = (df[\"bid_px_00\"] * df[\"ask_size_00\"] + df[\"ask_px_00\"] * df[\"bid_size_00\"]) / (df[\"bid_size_00\"] + df[\"ask_size_00\"])\n",
    "    df[\"log_return_midprice\"] = np.log(df[\"weighted_midprice\"].shift(-1)) - np.log(df[\"weighted_midprice\"])\n",
    "    df[\"log_return_price\"] = np.log(df[\"price\"].shift(-1)) - np.log(df[\"price\"])\n",
    "\n",
    "    return df\n",
    "\n",
    "pr"
   ]
  },
  {
   "cell_type": "code",
   "execution_count": 4,
   "metadata": {},
   "outputs": [
    {
     "data": {
      "text/plain": [
       "Index(['ts_recv', 'ts_event', 'action', 'side', 'depth', 'price', 'size',\n",
       "       'ts_in_delta', 'bid_px_00', 'ask_px_00', 'bid_sz_00', 'ask_sz_00',\n",
       "       'bid_ct_00', 'ask_ct_00', 'bid_px_01', 'ask_px_01', 'bid_sz_01',\n",
       "       'ask_sz_01', 'bid_ct_01', 'ask_ct_01', 'bid_px_02', 'ask_px_02',\n",
       "       'bid_sz_02', 'ask_sz_02', 'bid_ct_02', 'ask_ct_02', 'bid_px_03',\n",
       "       'ask_px_03', 'bid_sz_03', 'ask_sz_03', 'bid_ct_03', 'ask_ct_03',\n",
       "       'bid_px_04', 'ask_px_04', 'bid_sz_04', 'ask_sz_04', 'bid_ct_04',\n",
       "       'ask_ct_04', 'bid_px_05', 'ask_px_05', 'bid_sz_05', 'ask_sz_05',\n",
       "       'bid_ct_05', 'ask_ct_05', 'bid_px_06', 'ask_px_06', 'bid_sz_06',\n",
       "       'ask_sz_06', 'bid_ct_06', 'ask_ct_06', 'bid_px_07', 'ask_px_07',\n",
       "       'bid_sz_07', 'ask_sz_07', 'bid_ct_07', 'ask_ct_07', 'bid_px_08',\n",
       "       'ask_px_08', 'bid_sz_08', 'ask_sz_08', 'bid_ct_08', 'ask_ct_08',\n",
       "       'bid_px_09', 'ask_px_09', 'bid_sz_09', 'ask_sz_09', 'bid_ct_09',\n",
       "       'ask_ct_09', 'symbol'],\n",
       "      dtype='object')"
      ]
     },
     "execution_count": 4,
     "metadata": {},
     "output_type": "execute_result"
    }
   ],
   "source": [
    "df.columns\n",
    "\n",
    "cols = ['ts_recv', 'ts_event', 'action', 'side', 'depth', 'price', 'size',\n",
    "       'ts_in_delta', 'bid_px_00', 'ask_px_00', 'bid_sz_00', 'ask_sz_00',\n",
    "       'bid_ct_00', 'ask_ct_00']"
   ]
  },
  {
   "cell_type": "code",
   "execution_count": null,
   "metadata": {},
   "outputs": [],
   "source": [
    "from databento_dbn import FIXED_PRICE_SCALE\n",
    "for i in range(10):\n",
    "    df[f'ask_px_0{i}'] /= FIXED_PRICE_SCALE\n",
    "    df[f'bid_px_0{i}'] /= FIXED_PRICE_SCALE"
   ]
  },
  {
   "cell_type": "code",
   "execution_count": null,
   "metadata": {},
   "outputs": [],
   "source": [
    "df.to_parquet(\"/home/danny/hftbacktest/processed/GOOG_CP.mbp-10.parquet\")"
   ]
  },
  {
   "cell_type": "code",
   "execution_count": 2,
   "metadata": {},
   "outputs": [
    {
     "data": {
      "text/plain": [
       "'/home/danny/hftbacktest/research'"
      ]
     },
     "execution_count": 2,
     "metadata": {},
     "output_type": "execute_result"
    }
   ],
   "source": [
    "import os \n",
    "base_path = os.getcwd()\n",
    "\n",
    "\n"
   ]
  },
  {
   "cell_type": "code",
   "execution_count": null,
   "metadata": {},
   "outputs": [],
   "source": [
    "import cudf \n",
    "\n",
    "df = cudf.read_parquet(\"/home/danny/hftbacktest/processed/dbeq-basic-20231219.mbp-10.parquet\")"
   ]
  },
  {
   "cell_type": "code",
   "execution_count": null,
   "metadata": {},
   "outputs": [],
   "source": [
    "df"
   ]
  },
  {
   "cell_type": "markdown",
   "metadata": {},
   "source": []
  },
  {
   "cell_type": "code",
   "execution_count": null,
   "metadata": {},
   "outputs": [],
   "source": [
    "# see file size of two directories \n",
    "import os \n",
    "dir_1 = []\n",
    "dir_2 = []\n",
    "\n",
    "dir1 = \"/home/danny/hftbacktest/processed/GOOG\"\n",
    "dir2 = \"/home/danny/hftbacktest/processed/GOOGL\"\n",
    "\n",
    "for f in os.listdir(dir1):\n",
    "    dir_1.append(os.path.getsize(dir1 + \"/\" + f))\n",
    "\n",
    "for f in os.listdir(dir2):\n",
    "    dir_2.append(os.path.getsize(dir2 + \"/\" + f))\n",
    "\n",
    "print(sum(dir_1) / 1e9)\n",
    "print(sum(dir_2) / 1e9)"
   ]
  },
  {
   "cell_type": "code",
   "execution_count": null,
   "metadata": {},
   "outputs": [],
   "source": []
  }
 ],
 "metadata": {
  "kernelspec": {
   "display_name": "algotrader",
   "language": "python",
   "name": "python3"
  },
  "language_info": {
   "codemirror_mode": {
    "name": "ipython",
    "version": 3
   },
   "file_extension": ".py",
   "mimetype": "text/x-python",
   "name": "python",
   "nbconvert_exporter": "python",
   "pygments_lexer": "ipython3",
   "version": "3.11.9"
  }
 },
 "nbformat": 4,
 "nbformat_minor": 2
}
