{
 "cells": [
  {
   "cell_type": "code",
   "execution_count": 1,
   "metadata": {},
   "outputs": [],
   "source": [
    "from __future__ import annotations\n",
    "import polars as pl\n",
    "import seaborn as sns\n",
    "import tqdm\n",
    "from databento_dbn import FIXED_PRICE_SCALE, UNDEF_PRICE\n",
    "# plot price of each over time\n",
    "import plotly.graph_objs as go\n",
    "import plotly.offline as pyo\n",
    "import pandas as pd\n",
    "import numpy as np\n",
    "import datetime as dt  # For plotting x-axis as dates\n",
    "import matplotlib.pyplot as plt"
   ]
  },
  {
   "cell_type": "code",
   "execution_count": null,
   "metadata": {},
   "outputs": [],
   "source": [
    "import databento as db\n",
    "import os \n",
    "current_dir = os.getcwd()\n",
    "\n",
    "# Read all the files in the /data directory and store them in a list.\n",
    "downloaded_files = [current_dir + '/data/' + file for file in os.listdir(current_dir + '/data')]\n",
    "save_dir = \"/Users/danny/trading/mfg/data/\"\n",
    "for file in sorted(downloaded_files):\n",
    "    if file.endswith(\".dbn.zst\"):\n",
    "        data = db.DBNStore.from_file(file)\n",
    "        path = save_dir + file.split(\"/\")[-1][:-8]\n",
    "        data.to_df(price_type=\"fixed\").to_csv(path + \".csv\")"
   ]
  },
  {
   "cell_type": "code",
   "execution_count": 8,
   "metadata": {},
   "outputs": [
    {
     "data": {
      "text/plain": [
       "(7586, 75)"
      ]
     },
     "execution_count": 8,
     "metadata": {},
     "output_type": "execute_result"
    }
   ],
   "source": [
    "data = pl.read_parquet(\"/home/danny/hftbacktest/data/mbp.parquet\")\n",
    "data = data.filter((pl.col(\"symbol\") == \"GOOGL\") | (pl.col(\"symbol\") == \"GOOG\"))\n",
    "data = data.filter(pl.col(\"price\") != UNDEF_PRICE)\n",
    "data = data.with_columns(pl.col(\"ts_event\") - pl.col(\"ts_event\").min())\n",
    "data = data.filter(pl.col(\"price\") < 200370000000.0)\n",
    "data.shape"
   ]
  },
  {
   "cell_type": "code",
   "execution_count": 9,
   "metadata": {},
   "outputs": [
    {
     "data": {
      "text/html": [
       "<div><style>\n",
       ".dataframe > thead > tr,\n",
       ".dataframe > tbody > tr {\n",
       "  text-align: right;\n",
       "  white-space: pre-wrap;\n",
       "}\n",
       "</style>\n",
       "<small>shape: (5, 75)</small><table border=\"1\" class=\"dataframe\"><thead><tr><th>ts_recv</th><th>ts_event</th><th>rtype</th><th>publisher_id</th><th>instrument_id</th><th>action</th><th>side</th><th>depth</th><th>price</th><th>size</th><th>flags</th><th>ts_in_delta</th><th>sequence</th><th>bid_px_00</th><th>ask_px_00</th><th>bid_sz_00</th><th>ask_sz_00</th><th>bid_ct_00</th><th>ask_ct_00</th><th>bid_px_01</th><th>ask_px_01</th><th>bid_sz_01</th><th>ask_sz_01</th><th>bid_ct_01</th><th>ask_ct_01</th><th>bid_px_02</th><th>ask_px_02</th><th>bid_sz_02</th><th>ask_sz_02</th><th>bid_ct_02</th><th>ask_ct_02</th><th>bid_px_03</th><th>ask_px_03</th><th>bid_sz_03</th><th>ask_sz_03</th><th>bid_ct_03</th><th>ask_ct_03</th><th>bid_px_04</th><th>ask_px_04</th><th>bid_sz_04</th><th>ask_sz_04</th><th>bid_ct_04</th><th>ask_ct_04</th><th>bid_px_05</th><th>ask_px_05</th><th>bid_sz_05</th><th>ask_sz_05</th><th>bid_ct_05</th><th>ask_ct_05</th><th>bid_px_06</th><th>ask_px_06</th><th>bid_sz_06</th><th>ask_sz_06</th><th>bid_ct_06</th><th>ask_ct_06</th><th>bid_px_07</th><th>ask_px_07</th><th>bid_sz_07</th><th>ask_sz_07</th><th>bid_ct_07</th><th>ask_ct_07</th><th>bid_px_08</th><th>ask_px_08</th><th>bid_sz_08</th><th>ask_sz_08</th><th>bid_ct_08</th><th>ask_ct_08</th><th>bid_px_09</th><th>ask_px_09</th><th>bid_sz_09</th><th>ask_sz_09</th><th>bid_ct_09</th><th>ask_ct_09</th><th>symbol</th><th>__index_level_0__</th></tr><tr><td>datetime[ns, UTC]</td><td>duration[ns]</td><td>i64</td><td>i64</td><td>i64</td><td>str</td><td>str</td><td>i64</td><td>i64</td><td>i64</td><td>i64</td><td>i64</td><td>i64</td><td>i64</td><td>i64</td><td>i64</td><td>i64</td><td>i64</td><td>i64</td><td>i64</td><td>i64</td><td>i64</td><td>i64</td><td>i64</td><td>i64</td><td>i64</td><td>i64</td><td>i64</td><td>i64</td><td>i64</td><td>i64</td><td>i64</td><td>i64</td><td>i64</td><td>i64</td><td>i64</td><td>i64</td><td>i64</td><td>i64</td><td>i64</td><td>i64</td><td>i64</td><td>i64</td><td>i64</td><td>i64</td><td>i64</td><td>i64</td><td>i64</td><td>i64</td><td>i64</td><td>i64</td><td>i64</td><td>i64</td><td>i64</td><td>i64</td><td>i64</td><td>i64</td><td>i64</td><td>i64</td><td>i64</td><td>i64</td><td>i64</td><td>i64</td><td>i64</td><td>i64</td><td>i64</td><td>i64</td><td>i64</td><td>i64</td><td>i64</td><td>i64</td><td>i64</td><td>i64</td><td>str</td><td>i64</td></tr></thead><tbody><tr><td>2024-01-31 13:00:56.891462406 UTC</td><td>0ns</td><td>10</td><td>41</td><td>7152</td><td>&quot;T&quot;</td><td>&quot;N&quot;</td><td>0</td><td>143690000000</td><td>2</td><td>146</td><td>61218</td><td>58339</td><td>9223372036854775807</td><td>9223372036854775807</td><td>0</td><td>0</td><td>0</td><td>0</td><td>9223372036854775807</td><td>9223372036854775807</td><td>0</td><td>0</td><td>0</td><td>0</td><td>9223372036854775807</td><td>9223372036854775807</td><td>0</td><td>0</td><td>0</td><td>0</td><td>9223372036854775807</td><td>9223372036854775807</td><td>0</td><td>0</td><td>0</td><td>0</td><td>9223372036854775807</td><td>9223372036854775807</td><td>0</td><td>0</td><td>0</td><td>0</td><td>9223372036854775807</td><td>9223372036854775807</td><td>0</td><td>0</td><td>0</td><td>0</td><td>9223372036854775807</td><td>9223372036854775807</td><td>0</td><td>0</td><td>0</td><td>0</td><td>9223372036854775807</td><td>9223372036854775807</td><td>0</td><td>0</td><td>0</td><td>0</td><td>9223372036854775807</td><td>9223372036854775807</td><td>0</td><td>0</td><td>0</td><td>0</td><td>9223372036854775807</td><td>9223372036854775807</td><td>0</td><td>0</td><td>0</td><td>0</td><td>&quot;GOOGL&quot;</td><td>4621</td></tr><tr><td>2024-01-31 13:00:57.775749154 UTC</td><td>884314878ns</td><td>10</td><td>41</td><td>7152</td><td>&quot;T&quot;</td><td>&quot;N&quot;</td><td>0</td><td>143690000000</td><td>5</td><td>146</td><td>56140</td><td>58407</td><td>9223372036854775807</td><td>9223372036854775807</td><td>0</td><td>0</td><td>0</td><td>0</td><td>9223372036854775807</td><td>9223372036854775807</td><td>0</td><td>0</td><td>0</td><td>0</td><td>9223372036854775807</td><td>9223372036854775807</td><td>0</td><td>0</td><td>0</td><td>0</td><td>9223372036854775807</td><td>9223372036854775807</td><td>0</td><td>0</td><td>0</td><td>0</td><td>9223372036854775807</td><td>9223372036854775807</td><td>0</td><td>0</td><td>0</td><td>0</td><td>9223372036854775807</td><td>9223372036854775807</td><td>0</td><td>0</td><td>0</td><td>0</td><td>9223372036854775807</td><td>9223372036854775807</td><td>0</td><td>0</td><td>0</td><td>0</td><td>9223372036854775807</td><td>9223372036854775807</td><td>0</td><td>0</td><td>0</td><td>0</td><td>9223372036854775807</td><td>9223372036854775807</td><td>0</td><td>0</td><td>0</td><td>0</td><td>9223372036854775807</td><td>9223372036854775807</td><td>0</td><td>0</td><td>0</td><td>0</td><td>&quot;GOOGL&quot;</td><td>4625</td></tr><tr><td>2024-01-31 13:01:16.622285997 UTC</td><td>19s 730825526ns</td><td>10</td><td>41</td><td>7152</td><td>&quot;T&quot;</td><td>&quot;N&quot;</td><td>0</td><td>143690000000</td><td>1</td><td>146</td><td>66056</td><td>58974</td><td>9223372036854775807</td><td>9223372036854775807</td><td>0</td><td>0</td><td>0</td><td>0</td><td>9223372036854775807</td><td>9223372036854775807</td><td>0</td><td>0</td><td>0</td><td>0</td><td>9223372036854775807</td><td>9223372036854775807</td><td>0</td><td>0</td><td>0</td><td>0</td><td>9223372036854775807</td><td>9223372036854775807</td><td>0</td><td>0</td><td>0</td><td>0</td><td>9223372036854775807</td><td>9223372036854775807</td><td>0</td><td>0</td><td>0</td><td>0</td><td>9223372036854775807</td><td>9223372036854775807</td><td>0</td><td>0</td><td>0</td><td>0</td><td>9223372036854775807</td><td>9223372036854775807</td><td>0</td><td>0</td><td>0</td><td>0</td><td>9223372036854775807</td><td>9223372036854775807</td><td>0</td><td>0</td><td>0</td><td>0</td><td>9223372036854775807</td><td>9223372036854775807</td><td>0</td><td>0</td><td>0</td><td>0</td><td>9223372036854775807</td><td>9223372036854775807</td><td>0</td><td>0</td><td>0</td><td>0</td><td>&quot;GOOGL&quot;</td><td>4669</td></tr><tr><td>2024-01-31 13:01:22.649014588 UTC</td><td>25s 757507757ns</td><td>10</td><td>41</td><td>7152</td><td>&quot;T&quot;</td><td>&quot;N&quot;</td><td>0</td><td>143630000000</td><td>10</td><td>146</td><td>57247</td><td>59151</td><td>9223372036854775807</td><td>9223372036854775807</td><td>0</td><td>0</td><td>0</td><td>0</td><td>9223372036854775807</td><td>9223372036854775807</td><td>0</td><td>0</td><td>0</td><td>0</td><td>9223372036854775807</td><td>9223372036854775807</td><td>0</td><td>0</td><td>0</td><td>0</td><td>9223372036854775807</td><td>9223372036854775807</td><td>0</td><td>0</td><td>0</td><td>0</td><td>9223372036854775807</td><td>9223372036854775807</td><td>0</td><td>0</td><td>0</td><td>0</td><td>9223372036854775807</td><td>9223372036854775807</td><td>0</td><td>0</td><td>0</td><td>0</td><td>9223372036854775807</td><td>9223372036854775807</td><td>0</td><td>0</td><td>0</td><td>0</td><td>9223372036854775807</td><td>9223372036854775807</td><td>0</td><td>0</td><td>0</td><td>0</td><td>9223372036854775807</td><td>9223372036854775807</td><td>0</td><td>0</td><td>0</td><td>0</td><td>9223372036854775807</td><td>9223372036854775807</td><td>0</td><td>0</td><td>0</td><td>0</td><td>&quot;GOOGL&quot;</td><td>4698</td></tr><tr><td>2024-01-31 13:01:25.224594870 UTC</td><td>28s 333010531ns</td><td>10</td><td>41</td><td>7151</td><td>&quot;T&quot;</td><td>&quot;N&quot;</td><td>0</td><td>145290000000</td><td>11</td><td>146</td><td>77828</td><td>59263</td><td>9223372036854775807</td><td>9223372036854775807</td><td>0</td><td>0</td><td>0</td><td>0</td><td>9223372036854775807</td><td>9223372036854775807</td><td>0</td><td>0</td><td>0</td><td>0</td><td>9223372036854775807</td><td>9223372036854775807</td><td>0</td><td>0</td><td>0</td><td>0</td><td>9223372036854775807</td><td>9223372036854775807</td><td>0</td><td>0</td><td>0</td><td>0</td><td>9223372036854775807</td><td>9223372036854775807</td><td>0</td><td>0</td><td>0</td><td>0</td><td>9223372036854775807</td><td>9223372036854775807</td><td>0</td><td>0</td><td>0</td><td>0</td><td>9223372036854775807</td><td>9223372036854775807</td><td>0</td><td>0</td><td>0</td><td>0</td><td>9223372036854775807</td><td>9223372036854775807</td><td>0</td><td>0</td><td>0</td><td>0</td><td>9223372036854775807</td><td>9223372036854775807</td><td>0</td><td>0</td><td>0</td><td>0</td><td>9223372036854775807</td><td>9223372036854775807</td><td>0</td><td>0</td><td>0</td><td>0</td><td>&quot;GOOG&quot;</td><td>4719</td></tr></tbody></table></div>"
      ],
      "text/plain": [
       "shape: (5, 75)\n",
       "┌─────────────┬─────────────┬───────┬────────────┬───┬───────────┬───────────┬────────┬────────────┐\n",
       "│ ts_recv     ┆ ts_event    ┆ rtype ┆ publisher_ ┆ … ┆ bid_ct_09 ┆ ask_ct_09 ┆ symbol ┆ __index_le │\n",
       "│ ---         ┆ ---         ┆ ---   ┆ id         ┆   ┆ ---       ┆ ---       ┆ ---    ┆ vel_0__    │\n",
       "│ datetime[ns ┆ duration[ns ┆ i64   ┆ ---        ┆   ┆ i64       ┆ i64       ┆ str    ┆ ---        │\n",
       "│ , UTC]      ┆ ]           ┆       ┆ i64        ┆   ┆           ┆           ┆        ┆ i64        │\n",
       "╞═════════════╪═════════════╪═══════╪════════════╪═══╪═══════════╪═══════════╪════════╪════════════╡\n",
       "│ 2024-01-31  ┆ 0ns         ┆ 10    ┆ 41         ┆ … ┆ 0         ┆ 0         ┆ GOOGL  ┆ 4621       │\n",
       "│ 13:00:56.89 ┆             ┆       ┆            ┆   ┆           ┆           ┆        ┆            │\n",
       "│ 1462406 UT… ┆             ┆       ┆            ┆   ┆           ┆           ┆        ┆            │\n",
       "│ 2024-01-31  ┆ 884314878ns ┆ 10    ┆ 41         ┆ … ┆ 0         ┆ 0         ┆ GOOGL  ┆ 4625       │\n",
       "│ 13:00:57.77 ┆             ┆       ┆            ┆   ┆           ┆           ┆        ┆            │\n",
       "│ 5749154 UT… ┆             ┆       ┆            ┆   ┆           ┆           ┆        ┆            │\n",
       "│ 2024-01-31  ┆ 19s         ┆ 10    ┆ 41         ┆ … ┆ 0         ┆ 0         ┆ GOOGL  ┆ 4669       │\n",
       "│ 13:01:16.62 ┆ 730825526ns ┆       ┆            ┆   ┆           ┆           ┆        ┆            │\n",
       "│ 2285997 UT… ┆             ┆       ┆            ┆   ┆           ┆           ┆        ┆            │\n",
       "│ 2024-01-31  ┆ 25s         ┆ 10    ┆ 41         ┆ … ┆ 0         ┆ 0         ┆ GOOGL  ┆ 4698       │\n",
       "│ 13:01:22.64 ┆ 757507757ns ┆       ┆            ┆   ┆           ┆           ┆        ┆            │\n",
       "│ 9014588 UT… ┆             ┆       ┆            ┆   ┆           ┆           ┆        ┆            │\n",
       "│ 2024-01-31  ┆ 28s         ┆ 10    ┆ 41         ┆ … ┆ 0         ┆ 0         ┆ GOOG   ┆ 4719       │\n",
       "│ 13:01:25.22 ┆ 333010531ns ┆       ┆            ┆   ┆           ┆           ┆        ┆            │\n",
       "│ 4594870 UT… ┆             ┆       ┆            ┆   ┆           ┆           ┆        ┆            │\n",
       "└─────────────┴─────────────┴───────┴────────────┴───┴───────────┴───────────┴────────┴────────────┘"
      ]
     },
     "execution_count": 9,
     "metadata": {},
     "output_type": "execute_result"
    }
   ],
   "source": [
    "data.head()"
   ]
  },
  {
   "cell_type": "code",
   "execution_count": 7,
   "metadata": {},
   "outputs": [
    {
     "data": {
      "text/html": [
       "<div><style>\n",
       ".dataframe > thead > tr,\n",
       ".dataframe > tbody > tr {\n",
       "  text-align: right;\n",
       "  white-space: pre-wrap;\n",
       "}\n",
       "</style>\n",
       "<small>shape: (4,)</small><table border=\"1\" class=\"dataframe\"><thead><tr><th>action</th></tr><tr><td>str</td></tr></thead><tbody><tr><td>&quot;A&quot;</td></tr><tr><td>&quot;C&quot;</td></tr><tr><td>&quot;T&quot;</td></tr><tr><td>&quot;M&quot;</td></tr></tbody></table></div>"
      ],
      "text/plain": [
       "shape: (4,)\n",
       "Series: 'action' [str]\n",
       "[\n",
       "\t\"A\"\n",
       "\t\"C\"\n",
       "\t\"T\"\n",
       "\t\"M\"\n",
       "]"
      ]
     },
     "execution_count": 7,
     "metadata": {},
     "output_type": "execute_result"
    }
   ],
   "source": [
    "data[\"action\"].unique()"
   ]
  }
 ],
 "metadata": {
  "kernelspec": {
   "display_name": "algotrader",
   "language": "python",
   "name": "python3"
  },
  "language_info": {
   "codemirror_mode": {
    "name": "ipython",
    "version": 3
   },
   "file_extension": ".py",
   "mimetype": "text/x-python",
   "name": "python",
   "nbconvert_exporter": "python",
   "pygments_lexer": "ipython3",
   "version": "3.11.9"
  }
 },
 "nbformat": 4,
 "nbformat_minor": 2
}
