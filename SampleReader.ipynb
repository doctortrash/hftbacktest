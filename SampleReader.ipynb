{
 "cells": [
  {
   "cell_type": "code",
   "execution_count": null,
   "metadata": {},
   "outputs": [],
   "source": [
    "from __future__ import annotations\n",
    "import polars as pl\n",
    "import seaborn as sns\n",
    "import tqdm\n",
    "from databento_dbn import FIXED_PRICE_SCALE, UNDEF_PRICE\n",
    "# plot price of each over time\n",
    "import plotly.graph_objs as go\n",
    "import plotly.offline as pyo\n",
    "import pandas as pd\n",
    "import numpy as np\n",
    "import datetime as dt  # For plotting x-axis as dates\n",
    "import matplotlib.pyplot as plt"
   ]
  },
  {
   "cell_type": "code",
   "execution_count": null,
   "metadata": {},
   "outputs": [],
   "source": [
    "data = pl.read_parquet(\"/Users/danny/trading/databento/mbp.parquet\")\n",
    "data = data.filter((pl.col(\"symbol\") == \"GOOGL\") | (pl.col(\"symbol\") == \"GOOG\"))\n",
    "data = data.filter(pl.col(\"price\") != UNDEF_PRICE)\n",
    "data = data.with_columns(pl.col(\"ts_event\") - pl.col(\"ts_event\").min())\n",
    "data = data.filter(pl.col(\"price\") < 200370000000.0)\n",
    "data.shape"
   ]
  }
 ],
 "metadata": {
  "language_info": {
   "name": "python"
  }
 },
 "nbformat": 4,
 "nbformat_minor": 2
}
